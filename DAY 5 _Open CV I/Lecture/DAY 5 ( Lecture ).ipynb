{
 "cells": [
  {
   "cell_type": "markdown",
   "id": "58c7dcc3",
   "metadata": {},
   "source": [
    "- ### <u><span style=\"color:teal;\"> Import Libraries: </span></u>"
   ]
  },
  {
   "cell_type": "code",
   "execution_count": 5,
   "id": "d0e9c127",
   "metadata": {},
   "outputs": [],
   "source": [
    "import cv2\n",
    "import numpy as np\n",
    "from matplotlib import pyplot as plt"
   ]
  },
  {
   "cell_type": "markdown",
   "id": "f0c27d1a",
   "metadata": {},
   "source": [
    " "
   ]
  },
  {
   "cell_type": "markdown",
   "id": "7fa7373c",
   "metadata": {},
   "source": [
    "- ### <u><span style=\"color:teal;\"> Taskbar RGB: </span></u>"
   ]
  },
  {
   "cell_type": "code",
   "execution_count": 3,
   "id": "352ffa39",
   "metadata": {},
   "outputs": [
    {
     "name": "stdout",
     "output_type": "stream",
     "text": [
      "10\n",
      "10\n",
      "10\n",
      "12\n",
      "15\n",
      "18\n",
      "22\n",
      "25\n",
      "33\n",
      "40\n",
      "48\n",
      "55\n",
      "62\n",
      "69\n",
      "74\n",
      "79\n",
      "83\n",
      "86\n",
      "89\n",
      "91\n",
      "94\n",
      "95\n",
      "97\n",
      "98\n",
      "99\n",
      "100\n",
      "101\n",
      "103\n",
      "102\n",
      "101\n",
      "100\n",
      "99\n",
      "98\n",
      "97\n",
      "96\n",
      "94\n",
      "92\n",
      "91\n",
      "89\n",
      "88\n",
      "86\n",
      "13\n",
      "19\n",
      "38\n",
      "48\n",
      "56\n",
      "59\n",
      "63\n",
      "66\n",
      "69\n",
      "74\n",
      "75\n",
      "77\n",
      "78\n",
      "80\n",
      "82\n",
      "83\n",
      "84\n",
      "85\n",
      "86\n",
      "87\n",
      "88\n",
      "61\n",
      "112\n",
      "break the loop\n"
     ]
    }
   ],
   "source": [
    "def nothing(x):\n",
    "    print(x)\n",
    "\n",
    "\n",
    "\n",
    "cv2.namedWindow('RGB_Image')\n",
    "\n",
    "\n",
    "# Create trackbars for each color channel\n",
    "cv2.createTrackbar('Red', 'RGB_Image', 10, 255, nothing)\n",
    "cv2.createTrackbar('Geen', 'RGB_Image', 10, 255, nothing)\n",
    "cv2.createTrackbar('Blue', 'RGB_Image', 10, 255, nothing)\n",
    "\n",
    "\n",
    "img = np.zeros((500, 500, 3),np.uint8)\n",
    "\n",
    "while 1:\n",
    "    # Get current trackbar values\n",
    "    red = cv2.getTrackbarPos('Red', 'RGB_Image')\n",
    "    green = cv2.getTrackbarPos('Geen', 'RGB_Image')\n",
    "    blue = cv2.getTrackbarPos('Blue', 'RGB_Image')\n",
    "    \n",
    "    # Update the image with the current RGB values\n",
    "    img[:] = (blue, green,red)\n",
    "\n",
    "    cv2.imshow('RGB_Image',img)\n",
    "    \n",
    "    k=cv2.waitKey(1)\n",
    "    if k==ord('q'):\n",
    "            print('break the loop')\n",
    "            break\n",
    "cv2.destroyAllWindows()\n"
   ]
  },
  {
   "cell_type": "markdown",
   "id": "c862b7db",
   "metadata": {},
   "source": [
    " "
   ]
  }
 ],
 "metadata": {
  "kernelspec": {
   "display_name": "Python 3 (ipykernel)",
   "language": "python",
   "name": "python3"
  },
  "language_info": {
   "codemirror_mode": {
    "name": "ipython",
    "version": 3
   },
   "file_extension": ".py",
   "mimetype": "text/x-python",
   "name": "python",
   "nbconvert_exporter": "python",
   "pygments_lexer": "ipython3",
   "version": "3.9.13"
  }
 },
 "nbformat": 4,
 "nbformat_minor": 5
}
