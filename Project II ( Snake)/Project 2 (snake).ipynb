{
 "cells": [
  {
   "cell_type": "markdown",
   "id": "8b274972",
   "metadata": {},
   "source": [
    "- ## <u><span style=\"color:teal;\"> Snake CV Project : </span></u>"
   ]
  },
  {
   "cell_type": "markdown",
   "id": "0a6847eb",
   "metadata": {},
   "source": [
    "- ### <u><span style=\"color:teal;\"> Import Libraries: </span></u>\n",
    "1. Numpy Library as `np`.\n",
    "2. CV2.\n",
    "3. time , random"
   ]
  },
  {
   "cell_type": "code",
   "execution_count": 1,
   "id": "845919e2",
   "metadata": {},
   "outputs": [],
   "source": [
    "import numpy as np\n",
    "import cv2\n",
    "import random\n",
    "import time"
   ]
  },
  {
   "cell_type": "markdown",
   "id": "835556ef",
   "metadata": {},
   "source": [
    " "
   ]
  },
  {
   "cell_type": "markdown",
   "id": "dfaa6ea6",
   "metadata": {},
   "source": [
    "- ### <u> <span style=\"color:teal;\"> Project : </span></u> Make a `snake` game :\n",
    "#### (`One pixel` generate in `random` position then snake movie to it and snake should `increment one pixel`)\n",
    "  - Draw a `circle`for food and `3 circles` for snake that will `increament`.\n",
    "  - Set the buttons postions as `a-Left`, `d-Right`, `w-Up`, `s-Down`, `q-Break`.\n",
    "  - `Increase` Snake length on eating food.\n",
    "  - `Gave over` print the `score`."
   ]
  },
  {
   "cell_type": "code",
   "execution_count": 2,
   "id": "f98d8919",
   "metadata": {},
   "outputs": [],
   "source": [
    "\n",
    "image = np.zeros((500, 500, 3), np.uint8)\n",
    "\n",
    "# set Snake and food position\n",
    "snake_position = [[250, 250], [240, 250], [230, 250]]\n",
    "food_position = [random.randrange(1, 50) * 10, random.randrange(1, 50) * 10]\n",
    "score = 0\n",
    "prev_button_direction = 1\n",
    "button_direction = 1\n",
    "snake_head = [250, 250]\n",
    "\n",
    "while 1:\n",
    "    cv2.imshow('snake', image)\n",
    "    cv2.waitKey(1)\n",
    "    image [:] = 0\n",
    "    # draw circle food\n",
    "    cv2.circle(image, (food_position[0], food_position[1]), 3, (0, 0, 255), 3)\n",
    "   \n",
    "    # draw circles Snake\n",
    "    for position in snake_position:\n",
    "        cv2.circle(image, (position[0], position[1]), 3, (0,255, 255), 3)\n",
    "       \n",
    "        \n",
    "       \n",
    "    end_time = time.time()+ 0.1\n",
    "    k = 0\n",
    "    while time.time() < end_time:\n",
    "        if k == 0:\n",
    "            k = cv2.waitKey(100)\n",
    "        else:\n",
    "            continue\n",
    "\n",
    "   \n",
    "\n",
    "   # 0-Left, 1-Right, 3-Up, 2-Down, q-Break\n",
    "\n",
    "    if k == ord('a') and prev_button_direction != 1:\n",
    "        button_direction = 0\n",
    "    elif k == ord('d') and prev_button_direction != 0:\n",
    "        button_direction = 1\n",
    "    elif k == ord('w') and prev_button_direction != 2:\n",
    "        button_direction = 3\n",
    "    elif k == ord('s') and prev_button_direction != 3:\n",
    "        button_direction = 2\n",
    "    elif k == ord('q'):\n",
    "        break\n",
    "    else:\n",
    "        button_direction = button_direction\n",
    "    prev_button_direction = button_direction\n",
    "    \n",
    "\n",
    "    # change the head position \n",
    "    if button_direction == 1:\n",
    "        snake_head[0] += 10\n",
    "    elif button_direction == 0:\n",
    "        snake_head[0] -= 10\n",
    "    elif button_direction == 2:\n",
    "        snake_head[1] += 10\n",
    "    elif button_direction == 3:\n",
    "        snake_head[1] -= 10\n",
    "\n",
    "    # Increase Snake length on eating food\n",
    "    if snake_head == food_position:\n",
    "        food_position = [random.randrange(1, 50) * 10, random.randrange(1, 50) * 10]\n",
    "        score += 1\n",
    "        snake_position.insert(0, list(snake_head))\n",
    "    else:\n",
    "        snake_position.insert(0, list(snake_head))\n",
    "        snake_position.pop()\n",
    "\n",
    "    # Gave over print the score\n",
    "    if snake_head[0] >= 500 or snake_head[0] < 0 or snake_head[1] >= 500 or snake_head[1] < 0 or snake_head in snake_position[-1:]:\n",
    "        image[:] = 0\n",
    "        cv2.putText(image, 'Game Over', (160, 200), cv2.FONT_HERSHEY_SIMPLEX, 1, (255, 255, 255), 2, cv2.LINE_AA)\n",
    "        cv2.putText(image, f'Your Score is {score}', (140, 250), cv2.FONT_HERSHEY_SIMPLEX, 1, (255, 255, 255), 2, cv2.LINE_AA)\n",
    "        cv2.imshow('snake', image)\n",
    "        cv2.waitKey(0)\n",
    "        \n",
    "        break\n",
    "        \n",
    "    \n",
    "cv2.destroyAllWindows()"
   ]
  },
  {
   "cell_type": "markdown",
   "id": "516a18d4",
   "metadata": {},
   "source": [
    " "
   ]
  }
 ],
 "metadata": {
  "kernelspec": {
   "display_name": "Python 3 (ipykernel)",
   "language": "python",
   "name": "python3"
  },
  "language_info": {
   "codemirror_mode": {
    "name": "ipython",
    "version": 3
   },
   "file_extension": ".py",
   "mimetype": "text/x-python",
   "name": "python",
   "nbconvert_exporter": "python",
   "pygments_lexer": "ipython3",
   "version": "3.9.13"
  }
 },
 "nbformat": 4,
 "nbformat_minor": 5
}
