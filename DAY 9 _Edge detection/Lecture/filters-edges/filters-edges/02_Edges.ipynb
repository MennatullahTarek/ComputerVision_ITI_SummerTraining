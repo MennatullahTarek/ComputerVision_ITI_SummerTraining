{
 "cells": [
  {
   "cell_type": "markdown",
   "id": "entire-nelson",
   "metadata": {},
   "source": [
    "# Gradients\n",
    "\n",
    "Image gradient is a directional change in the intensity or color in an image\n",
    "![alt text](./Files/Gradient.png)\n",
    "\n",
    "# Edges and Edge Detection\n",
    "\n",
    "## What are edges?\n",
    "- An edge point is a point in an image at the location of a significant local intensity change in the image.\n",
    "\n",
    "---\n",
    "\n",
    "## Why edges Appear?\n",
    "- Depth Discontinuity.\n",
    "- Surface color Discontinuity.\n",
    "- Surface orientation Discontinuity.\n",
    "- Illumination discontinuity.\n",
    "\n",
    "![Image](./Files/rubik.jpg)\n",
    "![Image](./Files/001.jpg)\n",
    "\n",
    "---\n",
    "\n"
   ]
  },
  {
   "cell_type": "code",
   "execution_count": null,
   "id": "ecological-addition",
   "metadata": {},
   "outputs": [],
   "source": [
    "import cv2\n",
    "import numpy as np\n",
    "from matplotlib import pyplot as plt"
   ]
  },
  {
   "cell_type": "code",
   "execution_count": null,
   "id": "military-limit",
   "metadata": {},
   "outputs": [],
   "source": [
    "img = cv2.imread('./Files/001.jpg')\n",
    "gray = cv2.cvtColor(img,cv2.COLOR_BGR2GRAY)\n",
    "\n",
    "plt.figure(figsize=(20,10))\n",
    "plt.xticks([]); plt.yticks([])\n",
    "plt.imshow(gray, cmap='gray');"
   ]
  },
  {
   "cell_type": "markdown",
   "metadata": {},
   "source": [
    "# Sobel\n",
    "\n",
    "It is a filter that detects edges, it can be defined as a way of taking (an approximation) of the derivative of the image in the x or y direction, separately.\n",
    "\n",
    "## "
   ]
  },
  {
   "cell_type": "markdown",
   "metadata": {},
   "source": [
    "## Sobel Y"
   ]
  },
  {
   "cell_type": "code",
   "execution_count": null,
   "metadata": {},
   "outputs": [],
   "source": [
    "sobel_y = np.array([[ -1, -2, -1], \n",
    "                    [  0,  0, 0], \n",
    "                    [  1,  2, 1]])\n",
    "\n",
    "plt.figure(figsize=(7,7))\n",
    "plt.title('Sobel_y')\n",
    "plt.xticks([]); plt.yticks([])\n",
    "plt.imshow(sobel_y, cmap='gray');"
   ]
  },
  {
   "cell_type": "code",
   "execution_count": null,
   "metadata": {},
   "outputs": [],
   "source": [
    "sobel_y = np.array([[ -1, -2, -1], \n",
    "                    [  0,  0, 0], \n",
    "                    [  1,  2, 1]])\n",
    "\n",
    "filtered_image = cv2.filter2D(gray, -1, sobel_y)\n",
    "\n",
    "plt.figure(figsize=(25,10))\n",
    "plt.imshow(filtered_image, cmap='gray');"
   ]
  },
  {
   "cell_type": "markdown",
   "metadata": {},
   "source": [
    "# Quick One\n",
    "\n",
    "What do you think the result will be if we changed the filter to ?\n",
    "```python\n",
    "[  1,  2,  1],\n",
    "[  0,  0,  0], \n",
    "[ -1, -2, -1] \n",
    "```"
   ]
  },
  {
   "cell_type": "code",
   "execution_count": null,
   "metadata": {},
   "outputs": [],
   "source": [
    "sobel_y = np.array([[  1,  2,  1], \n",
    "                    [  0,  0,  0], \n",
    "                    [ -1, -2, -1]])\n",
    "\n",
    "filtered_image = cv2.filter2D(gray, -1, sobel_y)\n",
    "\n",
    "plt.figure(figsize=(25,10))\n",
    "plt.imshow(filtered_image, cmap='gray');"
   ]
  },
  {
   "cell_type": "code",
   "execution_count": null,
   "metadata": {},
   "outputs": [],
   "source": []
  },
  {
   "cell_type": "markdown",
   "metadata": {},
   "source": [
    "# Sobel x"
   ]
  },
  {
   "cell_type": "code",
   "execution_count": null,
   "metadata": {},
   "outputs": [],
   "source": [
    "sobel_x = np.array([[ -1, 0, 1], \n",
    "                    [ -2, 0, 2], \n",
    "                    [ -1, 0, 1]])\n",
    "\n",
    "plt.figure(figsize=(7,7))\n",
    "plt.title('Sobel_x')\n",
    "plt.xticks([]); plt.yticks([])\n",
    "plt.imshow(sobel_x, cmap='gray');"
   ]
  },
  {
   "cell_type": "code",
   "execution_count": null,
   "metadata": {},
   "outputs": [],
   "source": [
    "sobel_x = np.array([[ -1, 0, 1], \n",
    "                    [ -2, 0, 2], \n",
    "                    [ -1, 0, 1]])\n",
    "\n",
    "filtered_image = cv2.filter2D(gray, -1, sobel_x)\n",
    "\n",
    "plt.figure(figsize=(25,10))\n",
    "plt.imshow(filtered_image, cmap='gray');"
   ]
  },
  {
   "cell_type": "code",
   "execution_count": null,
   "id": "b4ca1eb4",
   "metadata": {},
   "outputs": [],
   "source": [
    "sobel_x = np.array([[ 1, 0, -1], \n",
    "                    [ 2, 0, -2], \n",
    "                    [ 1, 0, -1]])\n",
    "\n",
    "filtered_image = cv2.filter2D(gray, -1, sobel_x)\n",
    "\n",
    "plt.figure(figsize=(25,10))\n",
    "plt.imshow(filtered_image, cmap='gray');"
   ]
  },
  {
   "cell_type": "markdown",
   "metadata": {},
   "source": [
    "# It's playing around time"
   ]
  },
  {
   "cell_type": "code",
   "execution_count": null,
   "metadata": {},
   "outputs": [],
   "source": [
    "import cv2\n",
    "\n",
    "img = cv2.imread('./Files/001.jpg')\n",
    "gray = cv2.cvtColor(img,cv2.COLOR_BGR2GRAY)\n",
    "\n",
    "def nothing(x):\n",
    "    pass\n",
    "\n",
    "cv2.namedWindow('Image')\n",
    "\n",
    "cv2.createTrackbar('x', 'Image', 0, 1, nothing)\n",
    "cv2.createTrackbar('y', 'Image', 0, 1, nothing)\n",
    "cv2.createTrackbar('kSize', 'Image', 0, 30, nothing)\n",
    "\n",
    "while (1):\n",
    "    x = cv2.getTrackbarPos('x','Image')\n",
    "    y = cv2.getTrackbarPos('y','Image')\n",
    "    kSize = cv2.getTrackbarPos('kSize','Image')\n",
    "    if (kSize % 2 == 0):\n",
    "        kSize += 1\n",
    "    if (x == 1 or y == 1):\n",
    "        sobel = cv2.Sobel(img, cv2.CV_8U, x, y, ksize=kSize)\n",
    "    else:\n",
    "        sobel = img.copy()\n",
    "    cv2.imshow('Image', sobel)\n",
    "    k = cv2.waitKey(1) & 0xFF\n",
    "    if k == 27:\n",
    "        break\n",
    "    \n",
    "cv2.destroyAllWindows()"
   ]
  },
  {
   "cell_type": "markdown",
   "metadata": {},
   "source": [
    "# Laplacian"
   ]
  },
  {
   "cell_type": "code",
   "execution_count": null,
   "metadata": {},
   "outputs": [],
   "source": [
    "import numpy as np\n",
    "import matplotlib.pyplot as plt\n",
    "\n",
    "laplacian = np.array([[ 0,  1, 0], \n",
    "                      [ 1, -4, 1], \n",
    "                      [ 0,  1, 0]])\n",
    "\n",
    "plt.figure(figsize=(7,7))\n",
    "plt.title('Laplacian')\n",
    "plt.xticks([]); plt.yticks([])\n",
    "plt.imshow(laplacian, cmap='gray');"
   ]
  },
  {
   "cell_type": "code",
   "execution_count": null,
   "metadata": {},
   "outputs": [],
   "source": [
    "import cv2\n",
    "\n",
    "laplacian = np.array([[ 0,  1, 0], \n",
    "                      [ 1, -4, 1], \n",
    "                      [ 0,  1, 0]])\n",
    "\n",
    "filtered_image = cv2.filter2D(gray, -1, laplacian)\n",
    "\n",
    "plt.figure(figsize=(25,10))\n",
    "plt.imshow(filtered_image, cmap='gray');"
   ]
  },
  {
   "cell_type": "code",
   "execution_count": null,
   "metadata": {},
   "outputs": [],
   "source": [
    "laplacian = cv2.Laplacian(img, cv2.CV_8U)\n",
    "\n",
    "plt.figure(figsize=(30,15), facecolor=(1, 1, 1))\n",
    "\n",
    "plt.subplot(2,1,1),plt.imshow(img[:,:,::-1])\n",
    "plt.title('Original'), plt.xticks([]), plt.yticks([])\n",
    "\n",
    "plt.subplot(2,1,2),plt.imshow(laplacian,cmap = 'gray')\n",
    "plt.title('Laplacian'), plt.xticks([]), plt.yticks([])\n",
    "plt.show();"
   ]
  },
  {
   "cell_type": "markdown",
   "metadata": {},
   "source": [
    "# Canny\n",
    "\n",
    "![Image](./Files/canny.png)"
   ]
  },
  {
   "cell_type": "code",
   "execution_count": null,
   "id": "suited-offer",
   "metadata": {},
   "outputs": [],
   "source": [
    "edges = cv2.Canny(gray, 50, 150)"
   ]
  },
  {
   "cell_type": "code",
   "execution_count": null,
   "metadata": {},
   "outputs": [],
   "source": [
    "plt.figure(figsize=(25, 15))\n",
    "plt.subplot(121), plt.imshow(img[:,:,::-1], cmap = 'gray')\n",
    "plt.title('Original Image'), plt.xticks([]), plt.yticks([])\n",
    "plt.subplot(122),plt.imshow(edges,cmap = 'gray')\n",
    "plt.title('Edge Image'), plt.xticks([]), plt.yticks([])\n",
    "\n",
    "plt.show()"
   ]
  },
  {
   "cell_type": "code",
   "execution_count": null,
   "metadata": {},
   "outputs": [],
   "source": [
    "import cv2\n",
    "\n",
    "def nothing(x):\n",
    "    pass\n",
    "\n",
    "cv2.namedWindow('Image')\n",
    "\n",
    "cv2.createTrackbar('y', 'Image', 0, 300, nothing)\n",
    "cv2.createTrackbar('x', 'Image', 0, 300, nothing)\n",
    "cv2.createTrackbar('blur', 'Image', 0, 1, nothing)\n",
    "\n",
    "blur = cv2.GaussianBlur(gray, (5, 5), 0)\n",
    "\n",
    "while (1):\n",
    "    x = cv2.getTrackbarPos('x','Image')\n",
    "    y = cv2.getTrackbarPos('y','Image')\n",
    "    bl = cv2.getTrackbarPos('blur','Image')\n",
    "    edges = []\n",
    "    if bl:\n",
    "        edges = cv2.Canny(blur, x, y)\n",
    "    else:\n",
    "        edges = cv2.Canny(gray, x, y)\n",
    "    cv2.imshow('Image', edges)\n",
    "    k = cv2.waitKey(1) & 0xFF\n",
    "    if k == 27:\n",
    "        break\n",
    "    \n",
    "cv2.destroyAllWindows()"
   ]
  },
  {
   "cell_type": "code",
   "execution_count": null,
   "metadata": {},
   "outputs": [],
   "source": []
  },
  {
   "cell_type": "markdown",
   "metadata": {},
   "source": []
  },
  {
   "cell_type": "markdown",
   "metadata": {},
   "source": [
    "# Task 2\n",
    "\n",
    "## Required \n",
    "\n",
    "Find and use Deriche filter with OpenCV\n",
    "\n",
    "## Criteria\n",
    "\n",
    "- Output must be 2 images (one for x direction and one for y direction)"
   ]
  },
  {
   "cell_type": "code",
   "execution_count": null,
   "id": "8b3ce77e",
   "metadata": {},
   "outputs": [],
   "source": []
  }
 ],
 "metadata": {
  "kernelspec": {
   "display_name": "Python 3.9.6 64-bit",
   "language": "python",
   "name": "python3"
  },
  "language_info": {
   "codemirror_mode": {
    "name": "ipython",
    "version": 3
   },
   "file_extension": ".py",
   "mimetype": "text/x-python",
   "name": "python",
   "nbconvert_exporter": "python",
   "pygments_lexer": "ipython3",
   "version": "3.11.4"
  },
  "vscode": {
   "interpreter": {
    "hash": "31f2aee4e71d21fbe5cf8b01ff0e069b9275f58929596ceb00d14d90e3e16cd6"
   }
  }
 },
 "nbformat": 4,
 "nbformat_minor": 5
}
