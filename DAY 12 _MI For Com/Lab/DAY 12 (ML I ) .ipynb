{
 "cells": [
  {
   "cell_type": "markdown",
   "id": "d2fcb2a3",
   "metadata": {},
   "source": [
    "- ## <u><span style=\"color:#000099;\"> ML (Task I) : </span></u>"
   ]
  },
  {
   "cell_type": "markdown",
   "id": "309e33cd",
   "metadata": {},
   "source": [
    "###  <span style=\"color:#000099;\"> Q1)</span>  Build sequential model for equation:  `Z = 5 * X – 3 * Y + 7`\n",
    "\n",
    "1. Given the previous equation:\n",
    "     - Generate `10` random values for `x` and `y` as input with max value = `100`.\n",
    "     - Generate `z` for the above values.\n",
    "     - Create a model with` 2 inputs` to accept `x` and `y` and `predicts z`.\n",
    "\n",
    "2. You must show the results:\n",
    "    - Model summary.\n",
    "    - Loss VS epochs.\n",
    "    - Weights.\n",
    "    - Predict output for `3 different` inputs.\n",
    "\n",
    "3. Criteria:\n",
    "   - Model must be `1 neuron only`.\n",
    "   - Acc. must be `90% `at least."
   ]
  },
  {
   "cell_type": "markdown",
   "id": "8991e1be",
   "metadata": {},
   "source": [
    " "
   ]
  },
  {
   "cell_type": "markdown",
   "id": "182fb88c",
   "metadata": {},
   "source": [
    "- #### <u><span style=\"color:#000099;\"> Import libraries. </span></u>"
   ]
  },
  {
   "cell_type": "code",
   "execution_count": 1,
   "id": "8b47cebb",
   "metadata": {},
   "outputs": [],
   "source": [
    "import tensorflow as tf\n",
    "import numpy as np\n",
    "from matplotlib import pyplot as plt"
   ]
  },
  {
   "cell_type": "markdown",
   "id": "988d1973",
   "metadata": {},
   "source": [
    "- #### <span style=\"color:#000099;\"> Generate 10 random values for `x` and `y` as input with max. value = 100 </span>"
   ]
  },
  {
   "cell_type": "code",
   "execution_count": 2,
   "id": "2ca90e8c",
   "metadata": {},
   "outputs": [],
   "source": [
    "np.random.seed(0)\n",
    "X = np.random.randint(0, 101, size=10)\n",
    "Y = np.random.randint(0, 101, size=10)"
   ]
  },
  {
   "cell_type": "markdown",
   "id": "4d2afe5d",
   "metadata": {},
   "source": [
    "- #### <span style=\"color:#000099;\"> Generate `z` for the above values. </span>"
   ]
  },
  {
   "cell_type": "code",
   "execution_count": 3,
   "id": "daed9704",
   "metadata": {},
   "outputs": [],
   "source": [
    "Z = 5 * X - 3 * Y + 7"
   ]
  },
  {
   "cell_type": "markdown",
   "id": "9d0a5ec8",
   "metadata": {},
   "source": [
    "- #### <span style=\"color:#000099;\"> Create a `sequential` model with `2 inputs` and `1 neuron`. </span> "
   ]
  },
  {
   "cell_type": "code",
   "execution_count": 4,
   "id": "b75e2ed0",
   "metadata": {},
   "outputs": [],
   "source": [
    "merged_array = np.stack([X, Y], axis=1)"
   ]
  },
  {
   "cell_type": "code",
   "execution_count": 5,
   "id": "6e0e4fee",
   "metadata": {},
   "outputs": [],
   "source": [
    "\n",
    "model = tf.keras.Sequential([\n",
    "       tf.keras.layers.Dense(2, input_dim=2, activation=tf.keras.activations.sigmoid, use_bias=True),\n",
    "       tf.keras.layers.Dense(1, activation=tf.keras.activations.relu, use_bias=True)\n",
    "\n",
    "])\n"
   ]
  },
  {
   "cell_type": "markdown",
   "id": "1684aac3",
   "metadata": {},
   "source": [
    "- #### <span style=\"color:#000099;\"> Compile the model. </span>"
   ]
  },
  {
   "cell_type": "code",
   "execution_count": 13,
   "id": "d783f0ba",
   "metadata": {},
   "outputs": [],
   "source": [
    "model.compile(\n",
    "        loss='mean_squared_error',\n",
    "        optimizer=tf.keras.optimizers.Adam(0.1)\n",
    "    )"
   ]
  },
  {
   "cell_type": "markdown",
   "id": "20c9ca18",
   "metadata": {},
   "source": [
    "- #### <span style=\"color:#000099;\"> Train the model. </span>"
   ]
  },
  {
   "cell_type": "code",
   "execution_count": 14,
   "id": "3a462f3a",
   "metadata": {},
   "outputs": [
    {
     "name": "stdout",
     "output_type": "stream",
     "text": [
      "Epoch 1/100\n",
      "1/1 [==============================] - 2s 2s/step - loss: 29609.2559\n",
      "Epoch 2/100\n",
      "1/1 [==============================] - 0s 14ms/step - loss: 29573.3809\n",
      "Epoch 3/100\n",
      "1/1 [==============================] - 0s 13ms/step - loss: 29538.1660\n",
      "Epoch 4/100\n",
      "1/1 [==============================] - 0s 13ms/step - loss: 29506.4492\n",
      "Epoch 5/100\n",
      "1/1 [==============================] - 0s 17ms/step - loss: 29444.6055\n",
      "Epoch 6/100\n",
      "1/1 [==============================] - 0s 22ms/step - loss: 29414.0781\n",
      "Epoch 7/100\n",
      "1/1 [==============================] - 0s 14ms/step - loss: 29384.0352\n",
      "Epoch 8/100\n",
      "1/1 [==============================] - 0s 16ms/step - loss: 29353.8867\n",
      "Epoch 9/100\n",
      "1/1 [==============================] - 0s 8ms/step - loss: 29323.6719\n",
      "Epoch 10/100\n",
      "1/1 [==============================] - 0s 11ms/step - loss: 29293.4277\n",
      "Epoch 11/100\n",
      "1/1 [==============================] - 0s 14ms/step - loss: 29263.1816\n",
      "Epoch 12/100\n",
      "1/1 [==============================] - 0s 13ms/step - loss: 29232.9531\n",
      "Epoch 13/100\n",
      "1/1 [==============================] - 0s 12ms/step - loss: 29202.7656\n",
      "Epoch 14/100\n",
      "1/1 [==============================] - 0s 12ms/step - loss: 29172.6348\n",
      "Epoch 15/100\n",
      "1/1 [==============================] - 0s 14ms/step - loss: 29142.5664\n",
      "Epoch 16/100\n",
      "1/1 [==============================] - 0s 16ms/step - loss: 29112.5742\n",
      "Epoch 17/100\n",
      "1/1 [==============================] - 0s 12ms/step - loss: 29082.6602\n",
      "Epoch 18/100\n",
      "1/1 [==============================] - 0s 12ms/step - loss: 29052.8379\n",
      "Epoch 19/100\n",
      "1/1 [==============================] - 0s 15ms/step - loss: 29023.1055\n",
      "Epoch 20/100\n",
      "1/1 [==============================] - 0s 16ms/step - loss: 28993.4746\n",
      "Epoch 21/100\n",
      "1/1 [==============================] - 0s 13ms/step - loss: 28963.9434\n",
      "Epoch 22/100\n",
      "1/1 [==============================] - 0s 15ms/step - loss: 28934.5156\n",
      "Epoch 23/100\n",
      "1/1 [==============================] - 0s 8ms/step - loss: 28905.1992\n",
      "Epoch 24/100\n",
      "1/1 [==============================] - 0s 11ms/step - loss: 28875.9941\n",
      "Epoch 25/100\n",
      "1/1 [==============================] - 0s 8ms/step - loss: 28846.8965\n",
      "Epoch 26/100\n",
      "1/1 [==============================] - 0s 13ms/step - loss: 28817.9180\n",
      "Epoch 27/100\n",
      "1/1 [==============================] - 0s 10ms/step - loss: 28789.0508\n",
      "Epoch 28/100\n",
      "1/1 [==============================] - 0s 14ms/step - loss: 28760.3027\n",
      "Epoch 29/100\n",
      "1/1 [==============================] - 0s 12ms/step - loss: 28731.6680\n",
      "Epoch 30/100\n",
      "1/1 [==============================] - 0s 17ms/step - loss: 28703.1602\n",
      "Epoch 31/100\n",
      "1/1 [==============================] - 0s 13ms/step - loss: 28674.7617\n",
      "Epoch 32/100\n",
      "1/1 [==============================] - 0s 18ms/step - loss: 28646.4902\n",
      "Epoch 33/100\n",
      "1/1 [==============================] - 0s 12ms/step - loss: 28618.3379\n",
      "Epoch 34/100\n",
      "1/1 [==============================] - 0s 15ms/step - loss: 28590.3066\n",
      "Epoch 35/100\n",
      "1/1 [==============================] - 0s 15ms/step - loss: 28562.3945\n",
      "Epoch 36/100\n",
      "1/1 [==============================] - 0s 11ms/step - loss: 28534.6055\n",
      "Epoch 37/100\n",
      "1/1 [==============================] - 0s 15ms/step - loss: 28506.9375\n",
      "Epoch 38/100\n",
      "1/1 [==============================] - 0s 10ms/step - loss: 28479.3945\n",
      "Epoch 39/100\n",
      "1/1 [==============================] - 0s 13ms/step - loss: 28451.9648\n",
      "Epoch 40/100\n",
      "1/1 [==============================] - 0s 15ms/step - loss: 28424.6602\n",
      "Epoch 41/100\n",
      "1/1 [==============================] - 0s 18ms/step - loss: 28397.4805\n",
      "Epoch 42/100\n",
      "1/1 [==============================] - 0s 19ms/step - loss: 28370.4180\n",
      "Epoch 43/100\n",
      "1/1 [==============================] - 0s 17ms/step - loss: 28343.4805\n",
      "Epoch 44/100\n",
      "1/1 [==============================] - 0s 14ms/step - loss: 28316.6621\n",
      "Epoch 45/100\n",
      "1/1 [==============================] - 0s 12ms/step - loss: 28289.9629\n",
      "Epoch 46/100\n",
      "1/1 [==============================] - 0s 16ms/step - loss: 28263.3848\n",
      "Epoch 47/100\n",
      "1/1 [==============================] - 0s 10ms/step - loss: 28236.9316\n",
      "Epoch 48/100\n",
      "1/1 [==============================] - 0s 11ms/step - loss: 28210.5938\n",
      "Epoch 49/100\n",
      "1/1 [==============================] - 0s 12ms/step - loss: 28184.3789\n",
      "Epoch 50/100\n",
      "1/1 [==============================] - 0s 14ms/step - loss: 28158.2773\n",
      "Epoch 51/100\n",
      "1/1 [==============================] - 0s 14ms/step - loss: 28132.3008\n",
      "Epoch 52/100\n",
      "1/1 [==============================] - 0s 17ms/step - loss: 28106.4414\n",
      "Epoch 53/100\n",
      "1/1 [==============================] - 0s 13ms/step - loss: 28080.6992\n",
      "Epoch 54/100\n",
      "1/1 [==============================] - 0s 14ms/step - loss: 28055.0723\n",
      "Epoch 55/100\n",
      "1/1 [==============================] - 0s 18ms/step - loss: 28029.5664\n",
      "Epoch 56/100\n",
      "1/1 [==============================] - 0s 12ms/step - loss: 28004.1758\n",
      "Epoch 57/100\n",
      "1/1 [==============================] - 0s 13ms/step - loss: 27978.9023\n",
      "Epoch 58/100\n",
      "1/1 [==============================] - 0s 15ms/step - loss: 27953.7461\n",
      "Epoch 59/100\n",
      "1/1 [==============================] - 0s 14ms/step - loss: 27928.7070\n",
      "Epoch 60/100\n",
      "1/1 [==============================] - 0s 14ms/step - loss: 27903.7812\n",
      "Epoch 61/100\n",
      "1/1 [==============================] - 0s 11ms/step - loss: 27878.9746\n",
      "Epoch 62/100\n",
      "1/1 [==============================] - 0s 12ms/step - loss: 27854.2754\n",
      "Epoch 63/100\n",
      "1/1 [==============================] - 0s 15ms/step - loss: 27829.6934\n",
      "Epoch 64/100\n",
      "1/1 [==============================] - 0s 12ms/step - loss: 27805.2285\n",
      "Epoch 65/100\n",
      "1/1 [==============================] - 0s 7ms/step - loss: 27780.8750\n",
      "Epoch 66/100\n",
      "1/1 [==============================] - 0s 14ms/step - loss: 27756.6309\n",
      "Epoch 67/100\n",
      "1/1 [==============================] - 0s 14ms/step - loss: 27732.5059\n",
      "Epoch 68/100\n",
      "1/1 [==============================] - 0s 11ms/step - loss: 27708.4883\n",
      "Epoch 69/100\n",
      "1/1 [==============================] - 0s 13ms/step - loss: 27684.5840\n",
      "Epoch 70/100\n",
      "1/1 [==============================] - 0s 13ms/step - loss: 27660.7930\n",
      "Epoch 71/100\n",
      "1/1 [==============================] - 0s 15ms/step - loss: 27637.1133\n",
      "Epoch 72/100\n",
      "1/1 [==============================] - 0s 15ms/step - loss: 27613.5371\n",
      "Epoch 73/100\n",
      "1/1 [==============================] - 0s 12ms/step - loss: 27590.0781\n",
      "Epoch 74/100\n",
      "1/1 [==============================] - 0s 15ms/step - loss: 27566.7246\n",
      "Epoch 75/100\n",
      "1/1 [==============================] - 0s 17ms/step - loss: 27543.4844\n",
      "Epoch 76/100\n",
      "1/1 [==============================] - 0s 17ms/step - loss: 27520.3496\n",
      "Epoch 77/100\n",
      "1/1 [==============================] - 0s 13ms/step - loss: 27497.3281\n",
      "Epoch 78/100\n",
      "1/1 [==============================] - 0s 8ms/step - loss: 27474.4121\n",
      "Epoch 79/100\n",
      "1/1 [==============================] - 0s 13ms/step - loss: 27451.6055\n",
      "Epoch 80/100\n",
      "1/1 [==============================] - 0s 9ms/step - loss: 27428.9023\n",
      "Epoch 81/100\n",
      "1/1 [==============================] - 0s 17ms/step - loss: 27406.3086\n",
      "Epoch 82/100\n",
      "1/1 [==============================] - 0s 11ms/step - loss: 27383.8223\n",
      "Epoch 83/100\n",
      "1/1 [==============================] - 0s 9ms/step - loss: 27361.4434\n",
      "Epoch 84/100\n",
      "1/1 [==============================] - 0s 16ms/step - loss: 27339.1660\n",
      "Epoch 85/100\n",
      "1/1 [==============================] - 0s 16ms/step - loss: 27316.9961\n",
      "Epoch 86/100\n",
      "1/1 [==============================] - 0s 16ms/step - loss: 27294.9277\n",
      "Epoch 87/100\n",
      "1/1 [==============================] - 0s 13ms/step - loss: 27272.9727\n",
      "Epoch 88/100\n",
      "1/1 [==============================] - 0s 15ms/step - loss: 27251.1152\n",
      "Epoch 89/100\n",
      "1/1 [==============================] - 0s 11ms/step - loss: 27229.3652\n",
      "Epoch 90/100\n",
      "1/1 [==============================] - 0s 10ms/step - loss: 27207.7188\n",
      "Epoch 91/100\n",
      "1/1 [==============================] - 0s 9ms/step - loss: 27186.1758\n",
      "Epoch 92/100\n",
      "1/1 [==============================] - 0s 10ms/step - loss: 27164.7383\n",
      "Epoch 93/100\n",
      "1/1 [==============================] - 0s 13ms/step - loss: 27143.3945\n",
      "Epoch 94/100\n",
      "1/1 [==============================] - 0s 13ms/step - loss: 27122.1562\n",
      "Epoch 95/100\n",
      "1/1 [==============================] - 0s 13ms/step - loss: 27101.0254\n",
      "Epoch 96/100\n",
      "1/1 [==============================] - 0s 15ms/step - loss: 27079.9883\n",
      "Epoch 97/100\n",
      "1/1 [==============================] - 0s 10ms/step - loss: 27059.0586\n",
      "Epoch 98/100\n"
     ]
    },
    {
     "name": "stdout",
     "output_type": "stream",
     "text": [
      "1/1 [==============================] - 0s 12ms/step - loss: 27038.2285\n",
      "Epoch 99/100\n",
      "1/1 [==============================] - 0s 16ms/step - loss: 27017.4961\n",
      "Epoch 100/100\n",
      "1/1 [==============================] - 0s 12ms/step - loss: 26996.8652\n"
     ]
    }
   ],
   "source": [
    "history = model.fit( merged_array ,Z, epochs=100)"
   ]
  },
  {
   "cell_type": "markdown",
   "id": "bf4a98a0",
   "metadata": {},
   "source": [
    "- #### <span style=\"color:#000099;\"> Get the model `summary`. </span>"
   ]
  },
  {
   "cell_type": "code",
   "execution_count": 15,
   "id": "13727d45",
   "metadata": {},
   "outputs": [
    {
     "name": "stdout",
     "output_type": "stream",
     "text": [
      "Model: \"sequential\"\n",
      "_________________________________________________________________\n",
      " Layer (type)                Output Shape              Param #   \n",
      "=================================================================\n",
      " dense (Dense)               (None, 2)                 6         \n",
      "                                                                 \n",
      " dense_1 (Dense)             (None, 1)                 3         \n",
      "                                                                 \n",
      "=================================================================\n",
      "Total params: 9 (36.00 Byte)\n",
      "Trainable params: 9 (36.00 Byte)\n",
      "Non-trainable params: 0 (0.00 Byte)\n",
      "_________________________________________________________________\n"
     ]
    }
   ],
   "source": [
    "model.summary()"
   ]
  },
  {
   "cell_type": "markdown",
   "id": "66bb7280",
   "metadata": {},
   "source": [
    "- #### <span style=\"color:#000099;\"> Plot the loss vs. epochs. </span>"
   ]
  },
  {
   "cell_type": "code",
   "execution_count": 16,
   "id": "c7a2bcb0",
   "metadata": {},
   "outputs": [
    {
     "data": {
      "image/png": "[encoded data removed]",
      "text/plain": [
       "<Figure size 640x480 with 1 Axes>"
      ]
     },
     "metadata": {},
     "output_type": "display_data"
    }
   ],
   "source": [
    "plt.xlabel('Epoch Number')\n",
    "plt.ylabel(\"Loss Magnitude\")\n",
    "plt.plot(history.history['loss']);"
   ]
  },
  {
   "cell_type": "markdown",
   "id": "da3da3eb",
   "metadata": {},
   "source": [
    "- #### <span style=\"color:#000099;\"> Get the `weights` of the model. </span>"
   ]
  },
  {
   "cell_type": "code",
   "execution_count": 17,
   "id": "4100b8d9",
   "metadata": {},
   "outputs": [
    {
     "name": "stdout",
     "output_type": "stream",
     "text": [
      "[array([[-1.8275664,  0.5237051],\n",
      "       [-0.6073253,  1.352048 ]], dtype=float32), array([-0.6370269,  0.9886153], dtype=float32), array([[ 0.35266817],\n",
      "       [10.141304  ]], dtype=float32), array([9.613291], dtype=float32)]\n"
     ]
    }
   ],
   "source": [
    "weights = model.get_weights()\n",
    "print(weights)"
   ]
  },
  {
   "cell_type": "markdown",
   "id": "8f8f050b",
   "metadata": {},
   "source": [
    "- #### <span style=\"color:#000099;\"> Predict the output for `three different` inputs. </span>"
   ]
  },
  {
   "cell_type": "code",
   "execution_count": 18,
   "id": "215bd4b0",
   "metadata": {},
   "outputs": [
    {
     "name": "stdout",
     "output_type": "stream",
     "text": [
      "1/1 [==============================] - 0s 308ms/step\n",
      "[[19.754595]\n",
      " [19.754595]\n",
      " [19.754595]]\n"
     ]
    }
   ],
   "source": [
    "inputs = np.array([[10, 20], [60, 40], [50, 50]])\n",
    "predictions = model.predict(inputs)\n",
    "print(predictions)"
   ]
  },
  {
   "cell_type": "markdown",
   "id": "412a1e67",
   "metadata": {},
   "source": [
    " "
   ]
  }
 ],
 "metadata": {
  "kernelspec": {
   "display_name": "Python 3 (ipykernel)",
   "language": "python",
   "name": "python3"
  },
  "language_info": {
   "codemirror_mode": {
    "name": "ipython",
    "version": 3
   },
   "file_extension": ".py",
   "mimetype": "text/x-python",
   "name": "python",
   "nbconvert_exporter": "python",
   "pygments_lexer": "ipython3",
   "version": "3.9.13"
  }
 },
 "nbformat": 4,
 "nbformat_minor": 5
}
