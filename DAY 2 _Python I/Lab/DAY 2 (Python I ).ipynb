{
 "cells": [
  {
   "cell_type": "markdown",
   "id": "ca441452",
   "metadata": {},
   "source": [
    "- ## <u><span style=\"color:red;\"> Python Assignments: </span></u>"
   ]
  },
  {
   "cell_type": "markdown",
   "id": "e0ad08d8",
   "metadata": {},
   "source": [
    " "
   ]
  },
  {
   "cell_type": "markdown",
   "id": "d46c839c",
   "metadata": {},
   "source": [
    "### <span style=\"color:red;\"> Q1)</span> Write a python code that ask the user to enter his birth year and then print his  age in years."
   ]
  },
  {
   "cell_type": "code",
   "execution_count": 1,
   "id": "1bb310f9",
   "metadata": {},
   "outputs": [
    {
     "name": "stdout",
     "output_type": "stream",
     "text": [
      "Please enter your birth year: 1997\n",
      "You are 26 Years Old\n"
     ]
    }
   ],
   "source": [
    "# Ask the user to enter his birth year\n",
    "birth_year = int(input(\"Please enter your birth year: \"))\n",
    "\n",
    "# Calculate the age\n",
    "age = 2023 - birth_year\n",
    "\n",
    "# Print the result\n",
    "print(f\"You are {age} Years Old\")"
   ]
  },
  {
   "cell_type": "markdown",
   "id": "04882034",
   "metadata": {},
   "source": [
    " "
   ]
  },
  {
   "cell_type": "markdown",
   "id": "e2dafe51",
   "metadata": {},
   "source": [
    "### <span style=\"color:red;\"> Q2) </span> Write a python code to find Sum and Average of N Natural Numbers."
   ]
  },
  {
   "cell_type": "code",
   "execution_count": 2,
   "id": "945ecf45",
   "metadata": {},
   "outputs": [
    {
     "name": "stdout",
     "output_type": "stream",
     "text": [
      "Please Enter any Number: 50\n",
      "The Sum of Natural Numbers from 1 to 50 = 1275\n",
      "Average of Natural Numbers from 1 to 50 = 25.5\n"
     ]
    }
   ],
   "source": [
    "# Ask the user to enter the value of N\n",
    "Number = int(input(\"Please Enter any Number: \"))\n",
    "\n",
    "# Initialize variable for sum \n",
    "sum_of_numbers = 0\n",
    "\n",
    "# Calculate the sum of the N natural numbers\n",
    "for i in range(1, Number + 1):\n",
    "    sum_of_numbers += i\n",
    "    \n",
    " # Calculate the average of the N natural numbers\n",
    "average = sum_of_numbers / Number\n",
    "\n",
    "# Print the sum and average\n",
    "print(f\"The Sum of Natural Numbers from 1 to {Number} = {sum_of_numbers}\")\n",
    "print(f\"Average of Natural Numbers from 1 to {Number} = {average}\")"
   ]
  },
  {
   "cell_type": "markdown",
   "id": "e3016ca1",
   "metadata": {},
   "source": [
    " "
   ]
  },
  {
   "cell_type": "markdown",
   "id": "b21979e7",
   "metadata": {},
   "source": [
    "### <span style=\"color:red;\"> Q3) </span> Python Program to Check Even or Odd ."
   ]
  },
  {
   "cell_type": "code",
   "execution_count": 3,
   "id": "5dc718ca",
   "metadata": {},
   "outputs": [
    {
     "name": "stdout",
     "output_type": "stream",
     "text": [
      "Enter 'q' for exit.\n",
      "Enter any number: 4\n",
      "4 is even.\n",
      "Enter any number: q\n"
     ]
    }
   ],
   "source": [
    "# inform the user of how the program work\n",
    "print (\"Enter 'q' for exit.\")\n",
    "\n",
    "while True:\n",
    "    # Ask the user for input\n",
    "    number = input(\"Enter any number: \")\n",
    "\n",
    "    # Check if the user wants to exit\n",
    "    if number == 'q':\n",
    "        break\n",
    "\n",
    "   \n",
    "    # Convert the input to an integer\n",
    "    number = int(number)\n",
    "\n",
    "    # Check if the number is even or odd\n",
    "    if number % 2 == 0:\n",
    "        print(number, \"is even.\")\n",
    "    else:\n",
    "        print(number, \"is odd.\")\n",
    "   "
   ]
  },
  {
   "cell_type": "markdown",
   "id": "f35e476a",
   "metadata": {},
   "source": [
    " "
   ]
  },
  {
   "cell_type": "markdown",
   "id": "5a0e70d0",
   "metadata": {},
   "source": [
    "### <span style=\"color:red;\"> Q4) </span> You are given the firstname and lastname of a person on two different lines. Your task is to read them and print the following:\n",
    "#### Hello firstname lastname! You just delved into python."
   ]
  },
  {
   "cell_type": "code",
   "execution_count": 4,
   "id": "29423202",
   "metadata": {},
   "outputs": [
    {
     "name": "stdout",
     "output_type": "stream",
     "text": [
      "Ross\n",
      "Taylor\n",
      "Hello Ross Taylor! You just delved into python.\n"
     ]
    }
   ],
   "source": [
    "# Define print_full_name function\n",
    "def print_full_name(first,last):\n",
    "    print(f\"Hello {first} {last}! You just delved into python.\")\n",
    "\n",
    "\n",
    "# Main \n",
    "if __name__ == '__main__':\n",
    " #Ask the user to enter his first and last name\n",
    "  first_name = input()\n",
    "  last_name = input()\n",
    "  print_full_name(first_name,last_name)"
   ]
  },
  {
   "cell_type": "markdown",
   "id": "1936ddcd",
   "metadata": {},
   "source": [
    " "
   ]
  },
  {
   "cell_type": "markdown",
   "id": "f23b98ab",
   "metadata": {},
   "source": [
    "### <span style=\"color:red;\"> Q5) </span>You are given a string. Split the string on a \" \" (space) delimiter and join using a - hyphen."
   ]
  },
  {
   "cell_type": "code",
   "execution_count": 5,
   "id": "cfc55135",
   "metadata": {},
   "outputs": [
    {
     "name": "stdout",
     "output_type": "stream",
     "text": [
      "this is a string\n",
      "this-is-a-string\n"
     ]
    }
   ],
   "source": [
    "# Define split_and_join function\n",
    "def split_and_join(line):\n",
    "    line = line.split(\" \")     #line is converted to a list of strings\n",
    "    result = \"-\".join(line)   #line strings combined using \"-\"\n",
    "    return result\n",
    "    \n",
    "if __name__ == '__main__':\n",
    "    #Ask the user to enter a line string\n",
    "    line = input()\n",
    "    result = split_and_join(line)\n",
    "    print(result)"
   ]
  },
  {
   "cell_type": "markdown",
   "id": "6d867009",
   "metadata": {},
   "source": [
    " "
   ]
  },
  {
   "cell_type": "markdown",
   "id": "f8e07f01",
   "metadata": {},
   "source": [
    "### <span style=\"color:red;\"> Q6) </span> You are given a string and your task is to swap cases. In other words, convert all lowercase letters to uppercase letters and vice versa."
   ]
  },
  {
   "cell_type": "code",
   "execution_count": 6,
   "id": "f49d6526",
   "metadata": {},
   "outputs": [
    {
     "name": "stdout",
     "output_type": "stream",
     "text": [
      "HackerRank.com presents \"Pythonist 2\".\n",
      "hACKERrANK.COM PRESENTS \"pYTHONIST 2\".\n"
     ]
    }
   ],
   "source": [
    "# Define swap_case function\n",
    "def swap_case(s):\n",
    "    result = ''\n",
    "    for letter in s:\n",
    "        if letter.isupper():\n",
    "            result += letter.lower()    #Convert from Upper case to lower case\n",
    "        else:\n",
    "            result += letter.upper()    #Convert from lower case to Upper case\n",
    "            \n",
    "    return result\n",
    "\n",
    "if __name__ == '__main__':\n",
    "    s = input()\n",
    "    result = swap_case(s)\n",
    "    print(result)"
   ]
  },
  {
   "cell_type": "markdown",
   "id": "2fdd733d",
   "metadata": {},
   "source": [
    " "
   ]
  },
  {
   "cell_type": "markdown",
   "id": "21021b54",
   "metadata": {},
   "source": [
    "### <span style=\"color:red;\"> Q7) </span> Implement a code that takes as an input ASCII code for  some characters and combine them to form a string. "
   ]
  },
  {
   "cell_type": "code",
   "execution_count": 7,
   "id": "091126ed",
   "metadata": {},
   "outputs": [
    {
     "name": "stdout",
     "output_type": "stream",
     "text": [
      "Enter 'q' for exit.\n",
      "Enter an ASCII code: 72\n",
      "Enter an ASCII code: 101\n",
      "Enter an ASCII code: 108\n",
      "Enter an ASCII code: 108\n",
      "Enter an ASCII code: 111\n",
      "Enter an ASCII code: q\n",
      "Your Combined string: Hello\n"
     ]
    }
   ],
   "source": [
    "# inform the user of how the program work\n",
    "print (\"Enter 'q' for exit.\")\n",
    "\n",
    "# Define empty string to combine characters\n",
    "combined_string = \"\"\n",
    "\n",
    "while True:\n",
    "    # Ask the user for input ASCII code\n",
    "    ASCII_code = input(\"Enter an ASCII code: \")\n",
    "\n",
    "    # Check if the user wants to exit\n",
    "    if ASCII_code == 'q':\n",
    "        break\n",
    "\n",
    "   \n",
    "    # Convert the input from string to an integer\n",
    "    ascii_value = int(ASCII_code)\n",
    "\n",
    "    # Convert the ASCII value to its corresponding character\n",
    "    character = chr(ascii_value)\n",
    "\n",
    "    # Concatenate the character to the combined string\n",
    "    combined_string += character\n",
    "\n",
    "    \n",
    "# Print the combined string\n",
    "print(f\"Your Combined string: {combined_string}\")"
   ]
  },
  {
   "cell_type": "markdown",
   "id": "7211e2a1",
   "metadata": {},
   "source": [
    " "
   ]
  },
  {
   "cell_type": "markdown",
   "id": "18339fbb",
   "metadata": {},
   "source": [
    "### <span style=\"color:red;\"> Q8) </span> Write a Python program which accepts the radius of a circle from the user and compute the area."
   ]
  },
  {
   "cell_type": "code",
   "execution_count": 8,
   "id": "ea9e6ef4",
   "metadata": {},
   "outputs": [
    {
     "name": "stdout",
     "output_type": "stream",
     "text": [
      "Please enter the radius of the circle: 10\n",
      "The area of the circle is: 314.1592653589793\n"
     ]
    }
   ],
   "source": [
    "# Library provide Mathematical functions\n",
    "import math\n",
    "\n",
    "# Ask the user for the radius\n",
    "radius = float(input(\"Please enter the radius of the circle: \"))\n",
    "\n",
    "# Calculate the area of the circle using the formula (π)\n",
    "area = math.pi * radius ** 2\n",
    "\n",
    "# print the result\n",
    "print(f\"The area of the circle is: {area}\")"
   ]
  },
  {
   "cell_type": "markdown",
   "id": "3edb88f1",
   "metadata": {},
   "source": [
    " "
   ]
  },
  {
   "cell_type": "markdown",
   "id": "db6399d7",
   "metadata": {},
   "source": [
    "### <span style=\"color:red;\"> Q9) </span>Write a Python program which accepts the user's first and  last name and print them in reverse order with a space between them ."
   ]
  },
  {
   "cell_type": "code",
   "execution_count": 9,
   "id": "0c4f62ce",
   "metadata": {},
   "outputs": [
    {
     "name": "stdout",
     "output_type": "stream",
     "text": [
      "Enter your first name: Mennatullah\n",
      "Enter your last name: Tarek\n",
      "Reversed Name: Tarek Mennatullah\n"
     ]
    }
   ],
   "source": [
    "# Ask the user to enter his first and last name\n",
    "first_name = input(\"Enter your first name: \")\n",
    "last_name = input(\"Enter your last name: \")\n",
    "\n",
    "# Reversing the first and last name\n",
    "reversed_name = f\"{last_name} {first_name}\"\n",
    "\n",
    "# Print the reversed name\n",
    "print(f\"Reversed Name: {reversed_name}\")"
   ]
  },
  {
   "cell_type": "markdown",
   "id": "557708e7",
   "metadata": {},
   "source": [
    " "
   ]
  },
  {
   "cell_type": "markdown",
   "id": "1049047b",
   "metadata": {},
   "source": [
    "### <span style=\"color:red;\"> Q10) </span> Write a Python program to print the following string in a  specific format with one variable name.\n"
   ]
  },
  {
   "cell_type": "code",
   "execution_count": 10,
   "id": "c3374e07",
   "metadata": {},
   "outputs": [
    {
     "name": "stdout",
     "output_type": "stream",
     "text": [
      "Twinkle, twinkle, little star,\n",
      "         How I wonder what you are!\n",
      "                 Up above the world so high,\n",
      "                 Like a diamond in the sky. \n",
      "Twinkle, twinkle, little star,\n",
      "         How I wonder what you are\n"
     ]
    }
   ],
   "source": [
    "# Format the string using \"\"\" \"\"\"\n",
    "Twinkle = \"\"\"Twinkle, twinkle, little star,\n",
    "         How I wonder what you are!\n",
    "                 Up above the world so high,\n",
    "                 Like a diamond in the sky. \n",
    "Twinkle, twinkle, little star,\n",
    "         How I wonder what you are\"\"\"\n",
    "\n",
    "# print the string\n",
    "print(Twinkle)"
   ]
  },
  {
   "cell_type": "markdown",
   "id": "5c94c9b9",
   "metadata": {},
   "source": [
    " "
   ]
  },
  {
   "cell_type": "markdown",
   "id": "0c2c9823",
   "metadata": {},
   "source": [
    "### <span style=\"color:red;\"> Q11) </span>Find the numbers Between 1 and 100 that are multiples of 3 and 5 "
   ]
  },
  {
   "cell_type": "code",
   "execution_count": 11,
   "id": "277f4f28",
   "metadata": {},
   "outputs": [
    {
     "name": "stdout",
     "output_type": "stream",
     "text": [
      "Multiples of 3 and 5 between 1 and 100: [15, 30, 45, 60, 75, 90]\n"
     ]
    }
   ],
   "source": [
    "# Create an empty list to store the numbers\n",
    "multiples_of_3and5 = []\n",
    "\n",
    "# Iterate through numbers from 1 to 100\n",
    "for num in range(1, 101):\n",
    "    # Check if the number is divisible by both 3 and 5\n",
    "    if num % 3 == 0 and num % 5 == 0:\n",
    "       # If it is, add it to the list\n",
    "        multiples_of_3and5.append(num)\n",
    "\n",
    "# Print the list\n",
    "print(f\"Multiples of 3 and 5 between 1 and 100: { multiples_of_3and5}\")"
   ]
  }
 ],
 "metadata": {
  "kernelspec": {
   "display_name": "Python 3 (ipykernel)",
   "language": "python",
   "name": "python3"
  },
  "language_info": {
   "codemirror_mode": {
    "name": "ipython",
    "version": 3
   },
   "file_extension": ".py",
   "mimetype": "text/x-python",
   "name": "python",
   "nbconvert_exporter": "python",
   "pygments_lexer": "ipython3",
   "version": "3.9.13"
  }
 },
 "nbformat": 4,
 "nbformat_minor": 5
}
