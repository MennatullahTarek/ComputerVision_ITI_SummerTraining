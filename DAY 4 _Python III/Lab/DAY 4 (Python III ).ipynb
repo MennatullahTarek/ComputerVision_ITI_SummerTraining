{
 "cells": [
  {
   "cell_type": "markdown",
   "id": "a90ce03c",
   "metadata": {},
   "source": [
    "- ## <u><span style=\"color:purple;\"> Python Assignments: </span></u>"
   ]
  },
  {
   "cell_type": "markdown",
   "id": "675d56d9",
   "metadata": {},
   "source": [
    " "
   ]
  },
  {
   "cell_type": "markdown",
   "id": "72b27f1e",
   "metadata": {},
   "source": [
    "###  <span style=\"color:purple;\"> Q1)</span> Create a Vehicle class with `name`, `max_speed` and `mileage` instance attributes."
   ]
  },
  {
   "cell_type": "code",
   "execution_count": 1,
   "id": "198752d6",
   "metadata": {},
   "outputs": [],
   "source": [
    "class Vehicle:\n",
    "    def __init__ (self, name, max_speed, mileage):\n",
    "        self.name = name                     # name: The name of the vehicle\n",
    "        self.max_speed = max_speed           # max_speed : The maximum speed of the vehicle\n",
    "        self.mileage = mileage               # mileage: The mileage of the vehicle\n",
    "        "
   ]
  },
  {
   "cell_type": "markdown",
   "id": "df19f97e",
   "metadata": {},
   "source": [
    " "
   ]
  },
  {
   "cell_type": "markdown",
   "id": "480ed60d",
   "metadata": {},
   "source": [
    "### <span style=\"color:purple;\"> Q2)</span>  Create a child class `Bus` that will inherit all of the  attributes and methods of the `Vehicle class`."
   ]
  },
  {
   "cell_type": "code",
   "execution_count": 2,
   "id": "207da705",
   "metadata": {},
   "outputs": [],
   "source": [
    "class Bus(Vehicle):                             # child class Bus that inherits from the vehicle class\n",
    "    def __init__ (self):\n",
    "        super().__init__(name, max_speed, mileage)\n",
    "        "
   ]
  },
  {
   "cell_type": "markdown",
   "id": "d05f71c8",
   "metadata": {},
   "source": [
    " "
   ]
  },
  {
   "cell_type": "markdown",
   "id": "f2ae49da",
   "metadata": {},
   "source": [
    "### <span style=\"color:purple;\"> Q3)</span> Add a function `seating_capacity` to the vehicle class  that takes as an argument `the capacity` of the vehicle and  returns the following formatted string:\n",
    "#### \"The seating capacity  of a {<vehicle_name>} is {capacity} passengers\""
   ]
  },
  {
   "cell_type": "code",
   "execution_count": 3,
   "id": "de05c322",
   "metadata": {},
   "outputs": [],
   "source": [
    "class Vehicle:\n",
    "    def __init__ (self, name, max_speed, mileage):\n",
    "        \n",
    "        self.name = name                       # name: The name of the vehicle\n",
    "        self.max_speed = max_speed             # max_speed : The maximum speed of the vehicle\n",
    "        self.mileage = mileage                 # mileage: The mileage of the vehicle\n",
    "\n",
    "    \n",
    "    def seating_capacity(self, capacity):      # Takes capasity as an arg and returns the seating capacity of the vehicle\n",
    "      \n",
    "        return f\"The seating capacity of a {self.name} is {capacity} passengers.\""
   ]
  },
  {
   "cell_type": "markdown",
   "id": "34546afa",
   "metadata": {},
   "source": [
    "  "
   ]
  },
  {
   "cell_type": "markdown",
   "id": "8099f4ae",
   "metadata": {},
   "source": [
    "### <span style=\"color:purple;\"> Q4)</span> Override the function `seating_capacity` in the `Bus class`  to give the capacity argument a default value of `50`."
   ]
  },
  {
   "cell_type": "code",
   "execution_count": 4,
   "id": "7f4f1765",
   "metadata": {},
   "outputs": [],
   "source": [
    "class Bus(Vehicle):                             # child class Bus that inherits from the vehicle class\n",
    "    def __init__ (self,name, max_speed, mileage):\n",
    "        super().__init__(name, max_speed, mileage)\n",
    "        \n",
    "    def seating_capacity(self, capacity = 50):  # Takes capasity as a default arg and returns the seating capacity of the vehicle\n",
    "      \n",
    "        return f\"The seating capacity of a {self.name} is {capacity} passengers.\""
   ]
  },
  {
   "cell_type": "markdown",
   "id": "02463e93",
   "metadata": {},
   "source": [
    " "
   ]
  },
  {
   "cell_type": "markdown",
   "id": "b2cc8769",
   "metadata": {},
   "source": [
    "### <span style=\"color:purple;\"> Q5)</span> Add an `instance` variable to the `Bus class` called `capacity` and give it a default value of 50."
   ]
  },
  {
   "cell_type": "code",
   "execution_count": 5,
   "id": "caf6951b",
   "metadata": {},
   "outputs": [],
   "source": [
    "class Bus(Vehicle):                             # child class Bus that inherits from the vehicle class\n",
    "    def __init__ (self, name, max_speed, mileage ,capacity):\n",
    "        super().__init__(name, max_speed, mileage)\n",
    "        self.capacity = 50                     # instance variable called capaity that has default value 50\n",
    "        \n",
    "    def seating_capacity(self, capacity ):  \n",
    "      \n",
    "        return f\"The seating capacity of a {self.name} is {capacity} passengers.\""
   ]
  },
  {
   "cell_type": "markdown",
   "id": "eee56393",
   "metadata": {},
   "source": [
    " "
   ]
  },
  {
   "cell_type": "markdown",
   "id": "707cc3b3",
   "metadata": {},
   "source": [
    "### <span style=\"color:purple;\"> Q6)</span> Create a function `fare()` in the Bus class that calculates the renting fare of the bus per day according to the following equation.\n",
    "#### Fare = capacity *100"
   ]
  },
  {
   "cell_type": "code",
   "execution_count": 6,
   "id": "503ccf4b",
   "metadata": {},
   "outputs": [],
   "source": [
    "class Bus(Vehicle):                             # child class Bus that inherits from the vehicle class\n",
    "    def __init__ (self,name, max_speed, mileage, capacity):\n",
    "        super().__init__(name, max_speed, mileage)\n",
    "        self.capacity = 50                      # instance variable called capaity that has default value 50\n",
    "        \n",
    "    def seating_capacity(self, capacity ):  \n",
    "      \n",
    "        return f\"The seating capacity of a {self.name} is {capacity} passengers.\"\n",
    "    \n",
    "    \n",
    "    def fare(self):                             # Calculates the renting fare of the bus per day.\n",
    "\n",
    "        return self.capacity * 100"
   ]
  },
  {
   "cell_type": "markdown",
   "id": "9770148f",
   "metadata": {},
   "source": [
    " "
   ]
  },
  {
   "cell_type": "markdown",
   "id": "9ea0a7e0",
   "metadata": {},
   "source": [
    "- ### <u><span style=\"color:purple;\"> Run Test :</span></u>"
   ]
  },
  {
   "cell_type": "code",
   "execution_count": 7,
   "id": "3fa9a231",
   "metadata": {},
   "outputs": [
    {
     "name": "stdout",
     "output_type": "stream",
     "text": [
      "The seating capacity of a MyBus is 30 passengers.\n",
      "5000\n"
     ]
    }
   ],
   "source": [
    "# Create a Bus object\n",
    "bus = Bus(\"MyBus\", 60, 8, 30)\n",
    "\n",
    "# Calculate and print the fare , capasity\n",
    "print(bus.seating_capacity(30))\n",
    "print(bus.fare())"
   ]
  },
  {
   "cell_type": "markdown",
   "id": "1bee2ff6",
   "metadata": {},
   "source": [
    " "
   ]
  },
  {
   "cell_type": "markdown",
   "id": "53413ede",
   "metadata": {},
   "source": [
    "### <span style=\"color:purple;\"> Q7)</span> Create a class that represents `shape` which will have methods to calculate `circumference` and `area`, then create children classes, such as `square`, `triangle`, `circle`.\n",
    "- #### Should the shape class be abstract or not?"
   ]
  },
  {
   "cell_type": "code",
   "execution_count": 8,
   "id": "62b559d8",
   "metadata": {},
   "outputs": [],
   "source": [
    "import math\n",
    "\n",
    "class Shape:                      # Super class shape which has methods to calculate circumference and area\n",
    "    def calculate_area(self):\n",
    "        pass\n",
    "\n",
    "    def calculate_circumference(self):\n",
    "        pass\n",
    "\n",
    "    \n",
    "    \n",
    "class Square(Shape):              # class square inherits from class shape \n",
    "    def __init__ (self, side ):\n",
    "        self.side = side\n",
    "\n",
    "    def calculate_area(self):\n",
    "        return self.side ** 2    \n",
    "\n",
    "    def calculate_circumference(self):\n",
    "        return self.side * 4  \n",
    "     \n",
    "\n",
    "    \n",
    "class Triangle(Shape):\n",
    "    def __init__ (self, base, height, side1, side2, side3):\n",
    "        self.base = base\n",
    "        self.height = height\n",
    "        self.side1 = side1\n",
    "        self.side2 = side2\n",
    "        self.side3 = side3\n",
    "\n",
    "    def calculate_area(self):\n",
    "        return 0.5 * self.base * self.height\n",
    "\n",
    "    def calculate_circumference(self):\n",
    "        return self.side1 + self.side2 + self.side3\n",
    "\n",
    "   \n",
    "       \n",
    "class Circle(Shape):\n",
    "    def __init__ (self, radius):            # calculate the area and the circumference of the circle using radius\n",
    "        self.radius = radius\n",
    "\n",
    "    def calculate_area(self):\n",
    "        return math.pi * self.radius**2\n",
    "\n",
    "    def calculate_circumference(self):\n",
    "        return 2 * math.pi * self.radius\n"
   ]
  },
  {
   "cell_type": "markdown",
   "id": "d3dc8f46",
   "metadata": {},
   "source": [
    "- ### <u><span style=\"color:purple;\"> Run Test :</span></u>"
   ]
  },
  {
   "cell_type": "code",
   "execution_count": 9,
   "id": "1451331c",
   "metadata": {},
   "outputs": [
    {
     "name": "stdout",
     "output_type": "stream",
     "text": [
      "Side of the Square: 3\n",
      "Square Area: 9\n",
      "Square Circumference: 12\n",
      "\n",
      "Triangle: Base = 5, Height = 3 , side1 = 2 , side2 = 3 , side3 = 4\n",
      "Triangle Area: 7.5\n",
      "Triangle Circumference: 9\n",
      "\n",
      "Radius of the circle: 14\n",
      "Circle Area: 615.7521601035994\n",
      "Circle Circumference: 87.96459430051421\n"
     ]
    }
   ],
   "source": [
    "''' create instances of each subclass and call the calculate_area and calculate_circumference\n",
    "methods to calculate the area and circumference values.Then the results are printed.'''\n",
    "\n",
    "side = 3\n",
    "\n",
    "print(f\"Side of the Square: {side}\")\n",
    "square = Square(side)\n",
    "square_area = square.calculate_area()\n",
    "square_circumference = square.calculate_circumference()\n",
    "print(f\"Square Area: {square_area}\")\n",
    "print(f\"Square Circumference: {square_circumference}\")\n",
    "\n",
    "\n",
    "\n",
    "\n",
    "base = 5\n",
    "height = 3\n",
    "side1 = 2\n",
    "side2 = 3\n",
    "side3 = 4\n",
    "\n",
    "print(f\"\\nTriangle: Base = {base}, Height = {height} , side1 = {side1} , side2 = {side2} , side3 = {side3}\")\n",
    "triangle = Triangle(base,height,side1,side2,side3)\n",
    "triangle_area = triangle.calculate_area()\n",
    "triangle_circumference = triangle.calculate_circumference()\n",
    "print(f\"Triangle Area: {triangle_area}\")\n",
    "print(f\"Triangle Circumference: {triangle_circumference}\")\n",
    "\n",
    "\n",
    "r = 14\n",
    "circle = Circle(r)\n",
    "circle_area = circle.calculate_area()\n",
    "circle.circumference = circle.calculate_circumference()\n",
    "\n",
    "print(f\"\\nRadius of the circle: {r}\")\n",
    "print(f\"Circle Area: {circle_area}\")\n",
    "print(f\"Circle Circumference: {circle.circumference}\")\n"
   ]
  },
  {
   "cell_type": "markdown",
   "id": "934da6d8",
   "metadata": {},
   "source": [
    " "
   ]
  }
 ],
 "metadata": {
  "kernelspec": {
   "display_name": "Python 3 (ipykernel)",
   "language": "python",
   "name": "python3"
  },
  "language_info": {
   "codemirror_mode": {
    "name": "ipython",
    "version": 3
   },
   "file_extension": ".py",
   "mimetype": "text/x-python",
   "name": "python",
   "nbconvert_exporter": "python",
   "pygments_lexer": "ipython3",
   "version": "3.9.13"
  }
 },
 "nbformat": 4,
 "nbformat_minor": 5
}
